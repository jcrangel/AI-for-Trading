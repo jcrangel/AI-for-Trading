{
 "cells": [
  {
   "cell_type": "markdown",
   "source": [
    "# Portfolio Optimization using cvxpy"
   ],
   "metadata": {}
  },
  {
   "cell_type": "markdown",
   "source": [
    "## Imports"
   ],
   "metadata": {}
  },
  {
   "cell_type": "code",
   "execution_count": 2,
   "source": [
    "import cvxpy as cvx\r\n",
    "import numpy as np\r\n",
    "import quiz_tests"
   ],
   "outputs": [],
   "metadata": {}
  },
  {
   "cell_type": "markdown",
   "source": [
    "## Optimization with cvxpy\n",
    "\n",
    "http://www.cvxpy.org/\n",
    "\n",
    "Practice using cvxpy to solve a simple optimization problem. Find the optimal weights on a two-asset portfolio given the variance of Stock A, the variance of Stock B, and the correlation between Stocks A and B. Create a function that takes in these values as arguments and returns the vector of optimal weights, i.e., \n",
    "\n",
    "$\\mathbf{x} = \\begin{bmatrix}\n",
    "x_A & x_B\n",
    "\\end{bmatrix}\n",
    "$\n",
    "\n",
    "\n",
    "Remember that the constraint in this problem is: $x_A + x_B = 1$\n",
    "\n"
   ],
   "metadata": {}
  },
  {
   "cell_type": "markdown",
   "source": [
    "## Hints\n",
    "\n",
    "### standard deviation\n",
    "standard deviation $\\sigma_A = \\sqrt(\\sigma^2_A)$, where $\\sigma^2_A$ is variance of $x_A$\n",
    "look at `np.sqrt()`\n",
    "\n",
    "### covariance\n",
    "correlation between the stocks is $\\rho_{A,B}$\n",
    "\n",
    "covariance between the stocks is $\\sigma_{A,B} = \\sigma_A \\times \\sigma_B \\times \\rho_{A,B}$\n",
    "\n",
    "### x vector\n",
    "create a vector of 2 x variables $\\mathbf{x} = \\begin{bmatrix}\n",
    "x_A & x_B\n",
    "\\end{bmatrix}\n",
    "$\n",
    "we can use `cvx.Variable(2)`\n",
    "\n",
    "### covariance matrix\n",
    "The covariance matrix $P = \n",
    "\\begin{bmatrix}\n",
    "\\sigma^2_A & \\sigma_{A,B} \\\\ \n",
    "\\sigma_{A,B} & \\sigma^2_B \n",
    "\\end{bmatrix}$\n",
    "\n",
    "We can create a 2 x 2 matrix using a 2-dimensional numpy array\n",
    "`np.array([[\"Cindy\", \"Liz\"],[\"Eddy\", \"Brok\"]])`\n",
    "\n",
    "### quadratic form\n",
    "We can write the portfolio variance $\\sigma^2_p = \\mathbf{x^T} \\mathbf{P} \\mathbf{x}$\n",
    "\n",
    "Recall that the $\\mathbf{x^T} \\mathbf{P} \\mathbf{x}$ is called the quadratic form.\n",
    "We can use the cvxpy function `quad_form(x,P)` to get the quadratic form.\n",
    "\n",
    "### objective function\n",
    "Next, we want to define the objective function.  In this case, we want to minimize something.  What do we want to minimize in this case?  We want to minimize the portfolio variance, which is defined by our quadratic form $\\mathbf{x^T} \\mathbf{P} \\mathbf{x}$\n",
    "\n",
    "We can find the objective function using cvxpy `objective = cvx.Minimize()`.  Can you guess what to pass into this function?\n",
    "\n",
    "\n",
    "### constraints\n",
    "We can also define our constraints in a list.  For example, if you wanted the $\\sum_{1}^{n}x = 1$, you could save a variable as `[sum(x)==1]`, where x was created using `cvx.Variable()`.\n",
    "\n",
    "### optimization\n",
    "So now that we have our objective function and constraints, we can solve for the values of $\\mathbf{x}$.\n",
    "cvxpy has the constructor `Problem(objective, constraints)`, which returns a `Problem` object.\n",
    "\n",
    "The `Problem` object has a function solve(), which returns the minimum of the solution.  In this case, this is the minimum variance of the portfolio.\n",
    "\n",
    "It also updates the vector $\\mathbf{x}$.\n",
    "\n",
    "We can check out the values of $x_A$ and $x_B$ that gave the minimum portfolio variance by using `x.value`"
   ],
   "metadata": {}
  },
  {
   "cell_type": "code",
   "execution_count": 3,
   "source": [
    "import cvxpy as cvx\r\n",
    "import numpy as np\r\n",
    "\r\n",
    "def optimize_twoasset_portfolio(varA, varB, rAB):\r\n",
    "    \"\"\"Create a function that takes in the variance of Stock A, the variance of\r\n",
    "    Stock B, and the correlation between Stocks A and B as arguments and returns \r\n",
    "    the vector of optimal weights\r\n",
    "    \r\n",
    "    Parameters\r\n",
    "    ----------\r\n",
    "    varA : float\r\n",
    "        The variance of Stock A.\r\n",
    "        \r\n",
    "    varB : float\r\n",
    "        The variance of Stock B.    \r\n",
    "        \r\n",
    "    rAB : float\r\n",
    "        The correlation between Stocks A and B.\r\n",
    "        \r\n",
    "    Returns\r\n",
    "    -------\r\n",
    "    x : np.ndarray\r\n",
    "        A 2-element numpy ndarray containing the weights on Stocks A and B,\r\n",
    "        [x_A, x_B], that minimize the portfolio variance.\r\n",
    "    \r\n",
    "    \"\"\"\r\n",
    "    # TODO: Use cvxpy to determine the weights on the assets in a 2-asset\r\n",
    "    # portfolio that minimize portfolio variance.\r\n",
    "    \r\n",
    "    stdA, stdB = np.sqrt(varA), np.sqrt(varB)\r\n",
    "    cov = rAB * stdA * stdB\r\n",
    "    \r\n",
    "    x = cvx.Variable(2) \r\n",
    "    \r\n",
    "    P = np.array([[varA, cov],\r\n",
    "                  [cov,  varB]])\r\n",
    "    \r\n",
    "    objective = cvx.Minimize(cvx.quad_form(x, P))\r\n",
    "    \r\n",
    "    constraints = [sum(x) == 1]\r\n",
    "    \r\n",
    "    problem = cvx.Problem(objective, constraints)\r\n",
    "    result = problem.solve()\r\n",
    "    \r\n",
    "    min_value = problem.value\r\n",
    "    xA,xB = x.value[0], x.value[1]\r\n",
    "    \r\n",
    "    return xA, xB\r\n",
    "\r\n",
    "quiz_tests.test_optimize_twoasset_portfolio(optimize_twoasset_portfolio)"
   ],
   "outputs": [
    {
     "output_type": "stream",
     "name": "stdout",
     "text": [
      "Tests Passed\n"
     ]
    }
   ],
   "metadata": {}
  },
  {
   "cell_type": "code",
   "execution_count": 4,
   "source": [
    "\"\"\"Test run optimize_twoasset_portfolio().\"\"\"\r\n",
    "xA,xB = optimize_twoasset_portfolio(0.1, 0.05, 0.25)\r\n",
    "print(\"Weight on Stock A: {:.6f}\".format(xA))\r\n",
    "print(\"Weight on Stock B: {:.6f}\".format(xB))"
   ],
   "outputs": [
    {
     "output_type": "stream",
     "name": "stdout",
     "text": [
      "Weight on Stock A: 0.281935\n",
      "Weight on Stock B: 0.718065\n"
     ]
    }
   ],
   "metadata": {}
  }
 ],
 "metadata": {
  "kernelspec": {
   "name": "python3",
   "display_name": "Python 3.8.5 64-bit ('graphs': conda)"
  },
  "language_info": {
   "codemirror_mode": {
    "name": "ipython",
    "version": 3
   },
   "file_extension": ".py",
   "mimetype": "text/x-python",
   "name": "python",
   "nbconvert_exporter": "python",
   "pygments_lexer": "ipython3",
   "version": "3.8.5"
  },
  "interpreter": {
   "hash": "0edd1fa3ec63782136e72c608be85293ae26d369ebaca767a6746a463c3daa6a"
  }
 },
 "nbformat": 4,
 "nbformat_minor": 2
}