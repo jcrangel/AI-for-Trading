{
 "cells": [
  {
   "cell_type": "markdown",
   "source": [
    "# Checking if a pair of stocks is cointegrated"
   ],
   "metadata": {}
  },
  {
   "cell_type": "markdown",
   "source": [
    "## Imports"
   ],
   "metadata": {}
  },
  {
   "cell_type": "code",
   "execution_count": 1,
   "source": [
    "import numpy as np\r\n",
    "import pandas as pd\r\n",
    "from sklearn.linear_model import LinearRegression\r\n",
    "from statsmodels.tsa.stattools import adfuller\r\n",
    "import matplotlib.pyplot as plt\r\n",
    "import quiz_tests\r\n",
    "\r\n",
    "# Set plotting options\r\n",
    "%matplotlib inline\r\n",
    "plt.rc('figure', figsize=(16, 9))"
   ],
   "outputs": [
    {
     "output_type": "stream",
     "name": "stderr",
     "text": [
      "/anaconda3/lib/python3.6/site-packages/statsmodels/compat/pandas.py:56: FutureWarning: The pandas.core.datetools module is deprecated and will be removed in a future version. Please use the pandas.tseries module instead.\n",
      "  from pandas.core import datetools\n"
     ]
    }
   ],
   "metadata": {}
  },
  {
   "cell_type": "code",
   "execution_count": 2,
   "source": [
    "# fix random generator so it's easier to reproduce results\r\n",
    "np.random.seed(2018)\r\n",
    "# use returns to create a price series\r\n",
    "drift = 100\r\n",
    "r1 = np.random.normal(0, 1, 1000) \r\n",
    "s1 = pd.Series(np.cumsum(r1), name='s1') + drift\r\n",
    "\r\n",
    "#make second series\r\n",
    "offset = 10\r\n",
    "noise = np.random.normal(0, 1, 1000)\r\n",
    "s2 = s1 + offset + noise\r\n",
    "s2.name = 's2'\r\n",
    "\r\n",
    "## hedge ratio\r\n",
    "lr = LinearRegression()\r\n",
    "lr.fit(s1.values.reshape(-1,1),s2.values.reshape(-1,1))\r\n",
    "hedge_ratio = lr.coef_[0][0]\r\n",
    "\r\n",
    "#spread\r\n",
    "spread = s2 - s1 * hedge_ratio"
   ],
   "outputs": [],
   "metadata": {}
  },
  {
   "cell_type": "markdown",
   "source": [
    " ## Question\n",
    " Do you think we'll need the intercept when calculating the spread?  Why or why not?\n",
    " \n",
    "Since the intercept is a constant, it's not necesary to include it in the spread, since it just shifts the spread up by a constant.  We use the spread to check when it deviates from its historical average, so what matters going foward is how the spread differs from this average."
   ],
   "metadata": {}
  },
  {
   "cell_type": "markdown",
   "source": [
    "## Quiz\n",
    "### Check if spread is stationary using Augmented Dickey Fuller Test\n",
    "\n",
    "The [adfuller](http://www.statsmodels.org/dev/generated/statsmodels.tsa.stattools.adfuller.html) function is part of the statsmodel library.\n",
    "```\n",
    "adfuller(x, maxlag=None, regression='c', autolag='AIC', store=False, regresults=False)[source]\n",
    "\n",
    "adf (float) – Test statistic\n",
    "pvalue (float) – p-value\n",
    "...\n",
    "```"
   ],
   "metadata": {}
  },
  {
   "cell_type": "code",
   "execution_count": 5,
   "source": [
    "def is_spread_stationary(spread, p_level=0.05):\r\n",
    "    \"\"\"\r\n",
    "    spread: obtained from linear combination of two series with a hedge ratio\r\n",
    "    \r\n",
    "    p_level: level of significance required to reject null hypothesis of non-stationarity\r\n",
    "    \r\n",
    "    returns:\r\n",
    "        True if spread can be considered stationary\r\n",
    "        False otherwise\r\n",
    "    \"\"\"\r\n",
    "    adf_result = adfuller(spread)\r\n",
    "    pvalue = adf_result[1]\r\n",
    "    print(f\"pvalue {pvalue:.4f}\")\r\n",
    "    if pvalue <= p_level:\r\n",
    "        print(f\"pvalue is <= {p_level}, assume spread is stationary\")\r\n",
    "        return True\r\n",
    "    else:\r\n",
    "        print(f\"pvalue is > {p_level}, assume spread is not stationary\")\r\n",
    "        return False\r\n",
    "    \r\n",
    "quiz_tests.test_is_spread_stationary(is_spread_stationary)"
   ],
   "outputs": [
    {
     "output_type": "stream",
     "name": "stdout",
     "text": [
      "pvalue 0.0000\n",
      "pvalue is <= 0.05, assume spread is stationary\n",
      "Tests Passed\n"
     ]
    }
   ],
   "metadata": {}
  },
  {
   "cell_type": "code",
   "execution_count": 4,
   "source": [
    "# Try out your function\r\n",
    "print(f\"Are the two series candidates for pairs trading? {is_spread_stationary(spread)}\")"
   ],
   "outputs": [
    {
     "output_type": "stream",
     "name": "stdout",
     "text": [
      "pvalue 0.0000\n",
      "pvalue is <= 0.05, assume spread is stationary\n",
      "Are the two series candidates for pairs trading? True\n"
     ]
    }
   ],
   "metadata": {}
  }
 ],
 "metadata": {
  "kernelspec": {
   "name": "python3",
   "display_name": "Python 3.8.5 64-bit ('graphs': conda)"
  },
  "language_info": {
   "codemirror_mode": {
    "name": "ipython",
    "version": 3
   },
   "file_extension": ".py",
   "mimetype": "text/x-python",
   "name": "python",
   "nbconvert_exporter": "python",
   "pygments_lexer": "ipython3",
   "version": "3.8.5"
  },
  "interpreter": {
   "hash": "0edd1fa3ec63782136e72c608be85293ae26d369ebaca767a6746a463c3daa6a"
  }
 },
 "nbformat": 4,
 "nbformat_minor": 2
}