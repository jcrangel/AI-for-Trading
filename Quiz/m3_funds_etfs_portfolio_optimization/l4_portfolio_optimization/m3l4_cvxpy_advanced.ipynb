{
 "cells": [
  {
   "cell_type": "markdown",
   "source": [
    "# Advanced Portfolio Optimization using cvxpy"
   ],
   "metadata": {}
  },
  {
   "cell_type": "markdown",
   "source": [
    "## Imports"
   ],
   "metadata": {}
  },
  {
   "cell_type": "code",
   "execution_count": 1,
   "source": [
    "import cvxpy as cvx\r\n",
    "import numpy as np\r\n",
    "import quiz_tests_advanced"
   ],
   "outputs": [],
   "metadata": {}
  },
  {
   "cell_type": "markdown",
   "source": [
    "## What's our objective?\n",
    "http://www.cvxpy.org/\n",
    "\n",
    "Let's see how we can use optimization to meet a more advanced objective.  We want to both minimize the portfolio variance and also want to closely track a market cap weighted index.  In other words, we're trying to minimize the distance between the weights of our portfolio and the weights of the index.\n",
    "\n",
    "$Minimize \\left [ \\sigma^2_p + \\lambda \\sqrt{\\sum_{1}^{m}(weight_i - indexWeight_i)^2} \\right  ]$ where $m$ is the number of stocks in the portfolio, and $\\lambda$ is a scaling factor that you can choose.\n"
   ],
   "metadata": {}
  },
  {
   "cell_type": "markdown",
   "source": [
    "## Hints\n",
    "\n",
    "### x vector\n",
    "To create a vector of M variables $\\mathbf{x} = \\begin{bmatrix}\n",
    "x_1 &...& x_M\n",
    "\\end{bmatrix}\n",
    "$\n",
    "we can use `cvx.Variable(m)`\n",
    "\n",
    "### covariance matrix\n",
    "If we have $m$ stock series, the covariance matrix is an $m \\times m$ matrix containing the covariance between each pair of stocks.  We can use [numpy.cov](https://docs.scipy.org/doc/numpy/reference/generated/numpy.cov.html) to get the covariance.  We give it a 2D array in which each row is a stock series, and each column is an observation at the same period of time.\n",
    "\n",
    "The covariance matrix $\\mathbf{P} = \n",
    "\\begin{bmatrix}\n",
    "\\sigma^2_{1,1} & ... & \\sigma^2_{1,m} \\\\ \n",
    "... & ... & ...\\\\\n",
    "\\sigma_{m,1} & ... & \\sigma^2_{m,m}  \\\\\n",
    "\\end{bmatrix}$"
   ],
   "metadata": {}
  },
  {
   "cell_type": "markdown",
   "source": [
    "### portfolio variance\n",
    "We can write the portfolio variance $\\sigma^2_p = \\mathbf{x^T} \\mathbf{P} \\mathbf{x}$\n",
    "\n",
    "Recall that the $\\mathbf{x^T} \\mathbf{P} \\mathbf{x}$ is called the quadratic form.\n",
    "We can use the cvxpy function `quad_form(x,P)` to get the quadratic form.\n",
    "\n",
    "### Distance from index weights\n",
    "We want portfolio weights that track the index closely.  So we want to minimize the distance between them.\n",
    "Recall from the Pythagorean theorem that you can get the distance between two points in an x,y plane by adding the square of the x and y distances and taking the square root.  Extending this to any number of dimensions is called the L2 norm.  So: $\\sqrt{\\sum_{1}^{n}(weight_i - indexWeight_i)^2}$  Can also be written as $\\left \\| \\mathbf{x} - \\mathbf{index} \\right \\|_2$.  There's a cvxpy function called [norm()](https://www.cvxpy.org/api_reference/cvxpy.atoms.other_atoms.html#norm)\n",
    "`norm(x, p=2, axis=None)`.  The default is already set to find an L2 norm, so you would pass in one argument, which is the difference between your portfolio weights and the index weights.\n",
    "\n",
    "### objective function\n",
    "We want to minimize both the portfolio variance and the distance of the portfolio weights from the index weights.\n",
    "We also want to choose a `scale` constant, which is $\\lambda$ in the expression. This lets us choose how much priority we give to minimizing the difference from the index, relative to minimizing the variance of the portfolio.  If you choose a higher value for `scale` ($\\lambda$), do you think this gives more priority to minimizing the difference, or minimizing the variance?\n",
    "\n",
    "We can find the objective function using cvxpy `objective = cvx.Minimize()`.  Can you guess what to pass into this function?\n",
    "\n",
    "### constraints\n",
    "We can also define our constraints in a list.  For example, you'd want the weights to sum to one. So $\\sum_{1}^{n}x = 1$.  You may also need to go long only, which means no shorting, so no negative weights.  So $x_i >0 $ for all $i$. you could save a variable as `[x >= 0, sum(x) == 1]`, where x was created using `cvx.Variable()`."
   ],
   "metadata": {}
  },
  {
   "cell_type": "markdown",
   "source": [
    "### optimization\n",
    "So now that we have our objective function and constraints, we can solve for the values of $\\mathbf{x}$.\n",
    "cvxpy has the constructor `Problem(objective, constraints)`, which returns a `Problem` object.\n",
    "\n",
    "The `Problem` object has a function solve(), which returns the minimum of the solution.  In this case, this is the minimum variance of the portfolio.\n",
    "\n",
    "It also updates the vector $\\mathbf{x}$.\n",
    "\n",
    "We can check out the values of $x_A$ and $x_B$ that gave the minimum portfolio variance by using `x.value`"
   ],
   "metadata": {}
  },
  {
   "cell_type": "markdown",
   "source": [
    "## Quiz"
   ],
   "metadata": {}
  },
  {
   "cell_type": "code",
   "execution_count": 2,
   "source": [
    "import cvxpy as cvx\r\n",
    "import numpy as np\r\n",
    "\r\n",
    "def optimize_portfolio(returns, index_weights, scale=.00001):\r\n",
    "    \"\"\"\r\n",
    "    Create a function that takes the return series of a set of stocks, the index weights,\r\n",
    "    and scaling factor. The function will minimize a combination of the portfolio variance\r\n",
    "    and the distance of its weights from the index weights.  \r\n",
    "    The optimization will be constrained to be long only, and the weights should sum to one.\r\n",
    "    \r\n",
    "    Parameters\r\n",
    "    ----------\r\n",
    "    returns : numpy.ndarray\r\n",
    "        2D array containing stock return series in each row.\r\n",
    "        \r\n",
    "    index_weights : numpy.ndarray\r\n",
    "        1D numpy array containing weights of the index.\r\n",
    "        \r\n",
    "    scale : float\r\n",
    "        The scaling factor applied to the distance between portfolio and index weights\r\n",
    "        \r\n",
    "    Returns\r\n",
    "    -------\r\n",
    "    x : np.ndarray\r\n",
    "        A numpy ndarray containing the weights of the stocks in the optimized portfolio\r\n",
    "    \"\"\"\r\n",
    "    # TODO: Use cvxpy to determine the weights on the assets\r\n",
    "    # that minimizes the combination of portfolio variance and distance from index weights\r\n",
    "    \r\n",
    "    # number of stocks m is number of rows of returns, and also number of index weights\r\n",
    "    m = returns.shape[0]\r\n",
    "    \r\n",
    "    #covariance matrix of returns\r\n",
    "    cov = np.cov(returns)\r\n",
    "    \r\n",
    "    # x variables (to be found with optimization)\r\n",
    "    x = cvx.Variable(m)\r\n",
    "    \r\n",
    "    #portfolio variance, in quadratic form\r\n",
    "    portfolio_variance = cvx.quad_form(x, cov)\r\n",
    "    \r\n",
    "    # euclidean distance (L2 norm) between portfolio and index weights\r\n",
    "    distance_to_index = cvx.norm(x - index_weights)\r\n",
    "    \r\n",
    "    #objective function\r\n",
    "    objective = cvx.Minimize(portfolio_variance + scale * distance_to_index)\r\n",
    "    \r\n",
    "    #constraints\r\n",
    "    constraints = [sum(x) == 1, x >= 0]\r\n",
    "\r\n",
    "    #use cvxpy to solve the objective\r\n",
    "    problem = cvx.Problem(objective, constraints).solve()\r\n",
    "    \r\n",
    "    #retrieve the weights of the optimized portfolio\r\n",
    "    x_values = x.value\r\n",
    "    \r\n",
    "    return x_values\r\n",
    "\r\n",
    "quiz_tests_advanced.test_optimize_portfolio(optimize_portfolio)"
   ],
   "outputs": [
    {
     "output_type": "stream",
     "name": "stdout",
     "text": [
      "Tests Passed\n"
     ]
    }
   ],
   "metadata": {}
  },
  {
   "cell_type": "code",
   "execution_count": 3,
   "source": [
    "\"\"\"Test with a 3 simulated stock return series\"\"\"\r\n",
    "days_per_year = 252\r\n",
    "years = 3\r\n",
    "total_days = days_per_year * years\r\n",
    "\r\n",
    "return_market = np.random.normal(loc=0.05, scale=0.3, size=days_per_year)\r\n",
    "return_1 = np.random.uniform(low=-0.000001, high=.000001, size=days_per_year) + return_market\r\n",
    "return_2 = np.random.uniform(low=-0.000001, high=.000001, size=days_per_year) + return_market\r\n",
    "return_3 = np.random.uniform(low=-0.000001, high=.000001, size=days_per_year) + return_market\r\n",
    "returns = np.array([return_1, return_2, return_3])\r\n",
    "\r\n",
    "\"\"\"simulate index weights\"\"\"\r\n",
    "index_weights = np.array([0.9,0.15,0.05])\r\n",
    "\r\n",
    "\"\"\"try out your optimization function\"\"\"\r\n",
    "x_values = optimize_portfolio(returns, index_weights, scale=.00001)\r\n",
    "\r\n",
    "print(f\"The optimized weights are {x_values}, which sum to {sum(x_values):.2f}\")"
   ],
   "outputs": [
    {
     "output_type": "stream",
     "name": "stdout",
     "text": [
      "The optimized weights are [0.86724593 0.11622267 0.0165314 ], which sum to 1.00\n"
     ]
    }
   ],
   "metadata": {}
  }
 ],
 "metadata": {
  "kernelspec": {
   "name": "python3",
   "display_name": "Python 3.8.5 64-bit ('graphs': conda)"
  },
  "language_info": {
   "codemirror_mode": {
    "name": "ipython",
    "version": 3
   },
   "file_extension": ".py",
   "mimetype": "text/x-python",
   "name": "python",
   "nbconvert_exporter": "python",
   "pygments_lexer": "ipython3",
   "version": "3.8.5"
  },
  "interpreter": {
   "hash": "0edd1fa3ec63782136e72c608be85293ae26d369ebaca767a6746a463c3daa6a"
  }
 },
 "nbformat": 4,
 "nbformat_minor": 2
}