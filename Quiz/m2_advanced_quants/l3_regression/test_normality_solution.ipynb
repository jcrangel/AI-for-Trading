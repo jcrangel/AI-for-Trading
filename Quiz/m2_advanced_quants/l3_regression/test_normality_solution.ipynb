{
 "cells": [
  {
   "cell_type": "markdown",
   "source": [
    "# Testing if a Distribution is Normal"
   ],
   "metadata": {}
  },
  {
   "cell_type": "markdown",
   "source": [
    "## Imports"
   ],
   "metadata": {}
  },
  {
   "cell_type": "code",
   "execution_count": 7,
   "source": [
    "import numpy as np\r\n",
    "import pandas as pd\r\n",
    "import scipy.stats as stats\r\n",
    "import matplotlib.pyplot as plt\r\n",
    "import quiz_tests\r\n",
    "\r\n",
    "# Set plotting options\r\n",
    "%matplotlib inline\r\n",
    "plt.rc('figure', figsize=(16, 9))"
   ],
   "outputs": [],
   "metadata": {}
  },
  {
   "cell_type": "markdown",
   "source": [
    "## Create normal and non-normal distributions"
   ],
   "metadata": {}
  },
  {
   "cell_type": "code",
   "execution_count": 2,
   "source": [
    "# Sample A: Normal distribution\r\n",
    "sample_a = stats.norm.rvs(loc=0.0, scale=1.0, size=(1000,))\r\n",
    "\r\n",
    "# Sample B: Non-normal distribution\r\n",
    "sample_b = stats.lognorm.rvs(s=0.5, loc=0.0, scale=1.0, size=(1000,))"
   ],
   "outputs": [],
   "metadata": {}
  },
  {
   "cell_type": "code",
   "execution_count": 6,
   "source": [
    "sample_a[:10]"
   ],
   "outputs": [
    {
     "output_type": "execute_result",
     "data": {
      "text/plain": [
       "array([-0.07577577, -2.22655587,  0.39970025, -2.14381413,  0.74925139,\n",
       "        2.69169809,  1.22238503, -0.69840848,  0.18302951,  0.93792257])"
      ]
     },
     "metadata": {},
     "execution_count": 6
    }
   ],
   "metadata": {}
  },
  {
   "cell_type": "markdown",
   "source": [
    "## Quiz Solution"
   ],
   "metadata": {}
  },
  {
   "cell_type": "markdown",
   "source": [
    "# Quiz\n",
    "\n",
    "To use the Kolmogorov-Smirnov test, complete the function `is_normal_ks`.\n",
    "\n",
    "To set the variable normal_args, create a tuple with two values.  An example of a tuple is `(\"apple\",\"banana\")`\n",
    "The first is the mean of the sample. The second is the standard deviation of the sample.\n",
    "\n",
    "**hint:** Hint: Numpy has functions np.mean() and np.std()"
   ],
   "metadata": {}
  },
  {
   "cell_type": "code",
   "execution_count": 3,
   "source": [
    "def is_normal_ks(sample, test=stats.kstest, p_level=0.05, **kwargs):    \r\n",
    "    \"\"\"\r\n",
    "    sample: a sample distribution\r\n",
    "    test: a function that tests for normality\r\n",
    "    p_level: if the test returns a p-value > than p_level, assume normality\r\n",
    "    \r\n",
    "    return: True if distribution is normal, False otherwise\r\n",
    "    \"\"\"\r\n",
    "    normal_args = (np.mean(sample),np.std(sample))\r\n",
    "    \r\n",
    "    t_stat, p_value = test(sample, 'norm', normal_args, **kwargs)\r\n",
    "    print(\"Test statistic: {}, p-value: {}\".format(t_stat, p_value))\r\n",
    "    print(\"Is the distribution Likely Normal? {}\".format(p_value > p_level))\r\n",
    "    return p_value > p_level\r\n",
    "\r\n",
    "quiz_tests.test_is_normal_ks(is_normal_ks)"
   ],
   "outputs": [
    {
     "output_type": "stream",
     "name": "stdout",
     "text": [
      "Test statistic: 0.0231167607758076, p-value: 0.6504103888186917\n",
      "Is the distribution Likely Normal? True\n",
      "Test statistic: 0.1110936393898681, p-value: 3.3235133451165995e-11\n",
      "Is the distribution Likely Normal? False\n",
      "Tests Passed\n"
     ]
    }
   ],
   "metadata": {}
  },
  {
   "cell_type": "code",
   "execution_count": 4,
   "source": [
    "# Using Kolmogorov-Smirnov test\r\n",
    "print(\"Sample A:-\"); is_normal_ks(sample_a);\r\n",
    "print(\"Sample B:-\"); is_normal_ks(sample_b);"
   ],
   "outputs": [
    {
     "output_type": "stream",
     "name": "stdout",
     "text": [
      "Sample A:-\n",
      "Test statistic: 0.020489621752502685, p-value: 0.7871708139386033\n",
      "Is the distribution Likely Normal? True\n",
      "Sample B:-\n",
      "Test statistic: 0.08662631327456954, p-value: 5.603243875007102e-07\n",
      "Is the distribution Likely Normal? False\n"
     ]
    }
   ],
   "metadata": {}
  }
 ],
 "metadata": {
  "kernelspec": {
   "name": "python3",
   "display_name": "Python 3.8.5 64-bit ('graphs': conda)"
  },
  "language_info": {
   "codemirror_mode": {
    "name": "ipython",
    "version": 3
   },
   "file_extension": ".py",
   "mimetype": "text/x-python",
   "name": "python",
   "nbconvert_exporter": "python",
   "pygments_lexer": "ipython3",
   "version": "3.8.5"
  },
  "interpreter": {
   "hash": "0edd1fa3ec63782136e72c608be85293ae26d369ebaca767a6746a463c3daa6a"
  }
 },
 "nbformat": 4,
 "nbformat_minor": 2
}