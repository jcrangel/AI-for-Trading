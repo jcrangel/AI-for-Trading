{
 "cells": [
  {
   "cell_type": "markdown",
   "source": [
    "# Covariance Matrix"
   ],
   "metadata": {}
  },
  {
   "cell_type": "markdown",
   "source": [
    "## Imports"
   ],
   "metadata": {}
  },
  {
   "cell_type": "code",
   "execution_count": 1,
   "source": [
    "import numpy as np\r\n",
    "import quiz_tests"
   ],
   "outputs": [],
   "metadata": {}
  },
  {
   "cell_type": "markdown",
   "source": [
    "## Hints\n",
    "\n",
    "### covariance matrix\n",
    "If we have $m$ stock series, the covariance matrix is an $m \\times m$ matrix containing the covariance between each pair of stocks.  We can use [numpy.cov](https://docs.scipy.org/doc/numpy/reference/generated/numpy.cov.html) to get the covariance.  We give it a 2D array in which each row is a stock series, and each column is an observation at the same period of time.\n",
    "\n",
    "The covariance matrix $\\mathbf{P} = \n",
    "\\begin{bmatrix}\n",
    "\\sigma^2_{1,1} & ... & \\sigma^2_{1,m} \\\\ \n",
    "... & ... & ...\\\\\n",
    "\\sigma_{m,1} & ... & \\sigma^2_{m,m}  \\\\\n",
    "\\end{bmatrix}$"
   ],
   "metadata": {}
  },
  {
   "cell_type": "markdown",
   "source": [
    "## Quiz"
   ],
   "metadata": {}
  },
  {
   "cell_type": "code",
   "execution_count": 2,
   "source": [
    "import numpy as np\r\n",
    "\r\n",
    "def covariance_matrix(returns):\r\n",
    "    \"\"\"\r\n",
    "    Create a function that takes the return series of a set of stocks\r\n",
    "    and calculates the covariance matrix.\r\n",
    "    \r\n",
    "    Parameters\r\n",
    "    ----------\r\n",
    "    returns : numpy.ndarray\r\n",
    "        2D array containing stock return series in each row.\r\n",
    "                \r\n",
    "    Returns\r\n",
    "    -------\r\n",
    "    x : np.ndarray\r\n",
    "        A numpy ndarray containing the covariance matrix\r\n",
    "    \"\"\"\r\n",
    "        \r\n",
    "    return np.cov(returns)\r\n",
    "\r\n",
    "quiz_tests.test_covariance_matrix(covariance_matrix)"
   ],
   "outputs": [
    {
     "output_type": "stream",
     "name": "stdout",
     "text": [
      "Tests Passed\n"
     ]
    }
   ],
   "metadata": {}
  },
  {
   "cell_type": "code",
   "execution_count": 3,
   "source": [
    "\"\"\"Test with a 3 simulated stock return series\"\"\"\r\n",
    "days_per_year = 252\r\n",
    "years = 3\r\n",
    "total_days = days_per_year * years\r\n",
    "\r\n",
    "return_market = np.random.normal(loc=0.05, scale=0.3, size=days_per_year)\r\n",
    "return_1 = np.random.uniform(low=-0.000001, high=.000001, size=days_per_year) + return_market\r\n",
    "return_2 = np.random.uniform(low=-0.000001, high=.000001, size=days_per_year) + return_market\r\n",
    "return_3 = np.random.uniform(low=-0.000001, high=.000001, size=days_per_year) + return_market\r\n",
    "returns = np.array([return_1, return_2, return_3])\r\n",
    "\r\n",
    "\"\"\"try out your function\"\"\"\r\n",
    "cov = covariance_matrix(returns)\r\n",
    "\r\n",
    "print(f\"The covariance matrix is \\n{cov}\")"
   ],
   "outputs": [
    {
     "output_type": "stream",
     "name": "stdout",
     "text": [
      "The covariance matrix is \n",
      "[[0.08962768 0.08962767 0.08962768]\n",
      " [0.08962767 0.08962766 0.08962767]\n",
      " [0.08962768 0.08962767 0.08962768]]\n"
     ]
    }
   ],
   "metadata": {}
  },
  {
   "cell_type": "code",
   "execution_count": 8,
   "source": [
    "returns[0].shape"
   ],
   "outputs": [
    {
     "output_type": "execute_result",
     "data": {
      "text/plain": [
       "(252,)"
      ]
     },
     "metadata": {},
     "execution_count": 8
    }
   ],
   "metadata": {}
  },
  {
   "cell_type": "code",
   "execution_count": 4,
   "source": [
    "betas=[1.2,1.8,0.5]\r\n",
    "ws=[0.4,0.4,0.2]\r\n",
    "rf=0.02\r\n",
    "rm=0.10\r\n",
    "\r\n",
    "rp = 0\r\n",
    "for i,beta in enumerate(betas):\r\n",
    "    rp += ws[i] * (rf+beta*(rm - rf))\r\n",
    "\r\n",
    "betap = 0\r\n",
    "for i,beta in enumerate(betas):\r\n",
    "    betap+=ws[i]*beta\r\n",
    "\r\n",
    "(rp,betap)    "
   ],
   "outputs": [
    {
     "output_type": "execute_result",
     "data": {
      "text/plain": [
       "(0.12400000000000001, 1.3000000000000003)"
      ]
     },
     "metadata": {},
     "execution_count": 4
    }
   ],
   "metadata": {}
  },
  {
   "cell_type": "code",
   "execution_count": null,
   "source": [],
   "outputs": [],
   "metadata": {}
  }
 ],
 "metadata": {
  "kernelspec": {
   "name": "python3",
   "display_name": "Python 3.8.5 64-bit ('graphs': conda)"
  },
  "language_info": {
   "codemirror_mode": {
    "name": "ipython",
    "version": 3
   },
   "file_extension": ".py",
   "mimetype": "text/x-python",
   "name": "python",
   "nbconvert_exporter": "python",
   "pygments_lexer": "ipython3",
   "version": "3.8.5"
  },
  "interpreter": {
   "hash": "0edd1fa3ec63782136e72c608be85293ae26d369ebaca767a6746a463c3daa6a"
  }
 },
 "nbformat": 4,
 "nbformat_minor": 2
}